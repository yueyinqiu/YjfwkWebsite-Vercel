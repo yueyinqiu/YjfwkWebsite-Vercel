{
 "cells": [
  {
   "cell_type": "markdown",
   "metadata": {},
   "source": [
    "# 简介\n"
   ]
  },
  {
   "cell_type": "markdown",
   "metadata": {},
   "source": [
    "此包提供了一些关于易学的基本类型，包括阴阳、五行、天干、地支和卦等。这些类型都有比较完整的字符串转换、整形转换、相互比较等功能。\n",
    "\n",
    "这个包的目的是提供类型本身而非它们相互之间的关联，因此没有取干支阴阳五行、判断五行生克等功能。这些功能被置于 [YiJingFramework.EntityRelations](https://yjfwk.yueyinqiu.top/EntityRelations/) 中。"
   ]
  }
 ],
 "metadata": {
  "kernelspec": {
   "display_name": "Python 3",
   "language": "python",
   "name": "python3"
  },
  "language_info": {
   "file_extension": ".cs",
   "mimetype": "text/x-csharp",
   "name": "python",
   "pygments_lexer": "csharp",
   "version": "3.12.2"
  },
  "polyglot_notebook": {
   "kernelInfo": {
    "defaultKernelName": "csharp",
    "items": [
     {
      "aliases": [],
      "name": "csharp"
     }
    ]
   }
  }
 },
 "nbformat": 4,
 "nbformat_minor": 2
}
