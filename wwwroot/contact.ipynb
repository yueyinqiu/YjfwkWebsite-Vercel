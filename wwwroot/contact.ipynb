{
 "cells": [
  {
   "cell_type": "markdown",
   "metadata": {},
   "source": [
    "# 联系方式\n",
    "\n",
    "您可以通过以下方式和我们取得联系：\n",
    "\n",
    "- [GitHub ： YiJingFramework](https://github.com/YiJingFramework/YiJingFramework/issues)\n",
    "- [Email ： YiJingFramework@outlook.com](mailto:YiJingFramework@outlook.com)\n",
    "- [QQ 群： 891390697](https://qm.qq.com/cgi-bin/qm/qr?k=ei6lPxxy8DOoxtS6XzeU_inlY6TukQg0&jump_from=webapi&authKey=3Qpra651uLIBQoGjQZIAUNJGwmgDbUByLe/clt1qiULnFGx7rknVur5CcD/hIRyg)"
   ]
  }
 ],
 "metadata": {
  "kernelspec": {
   "display_name": "Python 3",
   "language": "python",
   "name": "python3"
  },
  "language_info": {
   "file_extension": ".cs",
   "mimetype": "text/x-csharp",
   "name": "python",
   "pygments_lexer": "csharp",
   "version": "3.12.2"
  },
  "polyglot_notebook": {
   "kernelInfo": {
    "defaultKernelName": "csharp",
    "items": [
     {
      "aliases": [],
      "name": "csharp"
     }
    ]
   }
  }
 },
 "nbformat": 4,
 "nbformat_minor": 2
}
