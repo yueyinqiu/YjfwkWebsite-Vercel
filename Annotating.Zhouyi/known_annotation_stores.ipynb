{
 "cells": [
  {
   "cell_type": "markdown",
   "metadata": {},
   "source": [
    "# 已知的注解仓库\n",
    "\n",
    "在这里，我们会列出一些好用的注解仓库。如果您也制作了一个注解仓库并希望在这里添加一个链接，可以在 [Issues](https://github.com/YiJingFramework/Annotating.Zhouyi/issues) 中联系我们。\n",
    "\n",
    "- [https://github.com/yueyinqiu/my-yijing-annotation-stores/tree/main/975345ca](https://github.com/yueyinqiu/my-yijing-annotation-stores/tree/main/975345ca)"
   ]
  }
 ],
 "metadata": {
  "kernelspec": {
   "display_name": ".NET (C#)",
   "language": "C#",
   "name": ".net-csharp"
  },
  "language_info": {
   "file_extension": ".cs",
   "mimetype": "text/x-csharp",
   "name": "C#",
   "pygments_lexer": "csharp",
   "version": "11.0"
  },
  "polyglot_notebook": {
   "kernelInfo": {
    "defaultKernelName": "csharp",
    "items": [
     {
      "aliases": [],
      "name": "csharp"
     }
    ]
   }
  }
 },
 "nbformat": 4,
 "nbformat_minor": 2
}
